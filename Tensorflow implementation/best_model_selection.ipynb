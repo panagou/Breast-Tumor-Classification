{
 "cells": [
  {
   "cell_type": "code",
   "execution_count": 1,
   "id": "b5537791-068f-4c13-b6d3-fc6d839abeed",
   "metadata": {},
   "outputs": [],
   "source": [
    "import os\n",
    "import numpy as np\n",
    "import tensorflow as tf\n",
    "from sklearn.metrics import roc_curve, roc_auc_score, confusion_matrix\n",
    "import matplotlib.pyplot as plt"
   ]
  },
  {
   "cell_type": "code",
   "execution_count": 2,
   "id": "84e1c62d-5881-4109-a489-bf8469fb7f65",
   "metadata": {},
   "outputs": [],
   "source": [
    "x=np.load(r'C:\\zach\\archive\\Biomed_Data_x.npy')\n",
    "x_test=np.load(r'C:\\zach\\archive\\Biomed_Data_x_test.npy')\n",
    "x=x/x.max()\n",
    "x_test=x_test/x_test.max()\n",
    "y=np.load(r'C:\\zach\\archive\\Biomed_Data_y.npy')\n",
    "y_test=np.load(r'C:\\zach\\archive\\Biomed_Data_y_test.npy')"
   ]
  },
  {
   "cell_type": "code",
   "execution_count": 3,
   "id": "03fa9fc3-2b3c-45ef-871e-5ac4fba3c205",
   "metadata": {},
   "outputs": [],
   "source": [
    "#loading 3 models and compairing the results\n",
    "best_model=tf.keras.models.load_model(r'C:\\zach\\archive\\latest_model_dense16_dropout50') #dense layer16 50% dropout\n",
    "best_model2=tf.keras.models.load_model(r'C:\\zach\\archive\\latest_model_dense16') #dense layer16 10% dropout\n",
    "best_model3=tf.keras.models.load_model(r'C:\\zach\\archive\\latest_model_dense16_dropout50_32') #dense layer16 50% dropout after \n",
    "                                                                                             #the second training"
   ]
  },
  {
   "cell_type": "code",
   "execution_count": 9,
   "id": "f0d65515-b954-48c6-8d8c-15f6f4a7fcb0",
   "metadata": {
    "scrolled": true,
    "tags": []
   },
   "outputs": [
    {
     "name": "stdout",
     "output_type": "stream",
     "text": [
      "3/3 [==============================] - 0s 38ms/step - loss: 0.2987 - accuracy: 0.8667\n",
      "Validation loss is 29.869%\n",
      "Validation accuracy is 86.667%\n"
     ]
    }
   ],
   "source": [
    "val_loss, val_acc =best_model.evaluate(x_test, y_test)\n",
    "print('Validation loss is {}%'.format(np.round(100*val_loss,3)))\n",
    "print('Validation accuracy is {}%'.format(np.round(100*val_acc,3)))"
   ]
  },
  {
   "cell_type": "code",
   "execution_count": 10,
   "id": "0d7abd8f-2a96-4aed-adf4-e07145923348",
   "metadata": {
    "scrolled": true
   },
   "outputs": [
    {
     "name": "stdout",
     "output_type": "stream",
     "text": [
      "3/3 [==============================] - 0s 40ms/step - loss: 0.7573 - accuracy: 0.8000\n",
      "Validation loss is 75.732%\n",
      "Validation accuracy is 80.0%\n"
     ]
    }
   ],
   "source": [
    "val_loss, val_acc =best_model2.evaluate(x_test, y_test)\n",
    "print('Validation loss is {}%'.format(np.round(100*val_loss,3)))\n",
    "print('Validation accuracy is {}%'.format(np.round(100*val_acc,3)))"
   ]
  },
  {
   "cell_type": "code",
   "execution_count": 11,
   "id": "31e3441b-3dc3-4178-8888-509cbf8e95f2",
   "metadata": {},
   "outputs": [
    {
     "name": "stdout",
     "output_type": "stream",
     "text": [
      "3/3 [==============================] - 0s 37ms/step - loss: 0.2090 - accuracy: 0.9333\n",
      "Validation loss is 20.901%\n",
      "Validation accuracy is 93.333%\n"
     ]
    }
   ],
   "source": [
    "val_loss, val_acc =best_model3.evaluate(x_test, y_test)\n",
    "print('Validation loss is {}%'.format(np.round(100*val_loss,3)))\n",
    "print('Validation accuracy is {}%'.format(np.round(100*val_acc,3)))"
   ]
  },
  {
   "cell_type": "code",
   "execution_count": 14,
   "id": "d5d710de-19e4-40f2-8c93-0d4b47a04cbf",
   "metadata": {},
   "outputs": [
    {
     "data": {
      "image/png": "[encoded data removed]",
      "text/plain": [
       "<Figure size 504x432 with 1 Axes>"
      ]
     },
     "metadata": {
      "needs_background": "light"
     },
     "output_type": "display_data"
    }
   ],
   "source": [
    "predictions =best_model3.predict(x_test)\n",
    "fpr, tpr, thresholds =roc_curve(y_test, predictions, pos_label=1)\n",
    "auc_score=roc_auc_score(y_test,predictions)\n",
    "plt.figure(figsize=(7,6))\n",
    "plt.plot(1-tpr, 1-fpr, label='ROC curve')\n",
    "plt.plot([0, 1], [0, 1], 'k--')  # random predictions curve\n",
    "plt.xlim([0.0, 1.0])\n",
    "plt.ylim([0.0, 1.007])\n",
    "plt.xlabel('False Negative Rate (Miss Rate)')\n",
    "plt.ylabel('True Negative Rate (Specificity)')\n",
    "plt.title('AUC = %0.3f' % auc_score)\n",
    "plt.legend(loc=\"lower right\")\n",
    "plt.show()"
   ]
  },
  {
   "cell_type": "code",
   "execution_count": 15,
   "id": "744043ad",
   "metadata": {},
   "outputs": [
    {
     "name": "stdout",
     "output_type": "stream",
     "text": [
      "[[61  4]\n",
      " [ 1  9]]\n",
      "Confusion Matrix\n",
      "Sensitivity: 90.0%\n",
      "Specificity: 93.846%\n",
      "Negative Predictive Value: 98.387%\n",
      "Accuracy: 93.333%\n"
     ]
    }
   ],
   "source": [
    "cm=confusion_matrix(y_test,np.round(predictions))\n",
    "print(cm)\n",
    "print('Confusion Matrix')\n",
    "print('Sensitivity: {}%'.format(np.round(100*cm[1,1]/(cm[1,1]+cm[1,0]),3)))\n",
    "print('Specificity: {}%'.format(np.round(100*cm[0,0]/(cm[0,0]+cm[0,1]),3)))\n",
    "print(\"Negative Predictive Value: {}%\".format(np.round(100*cm[0,0]/(cm[0,0]+cm[1,0]),3)))\n",
    "print('Accuracy: {}%'.format(np.round(100*(cm[0,0]+cm[1,1])/np.sum(cm),3)))"
   ]
  },
  {
   "cell_type": "code",
   "execution_count": 16,
   "id": "aa4049a5",
   "metadata": {},
   "outputs": [
    {
     "name": "stdout",
     "output_type": "stream",
     "text": [
      "Model: \"sequential\"\n",
      "_________________________________________________________________\n",
      "Layer (type)                 Output Shape              Param #   \n",
      "=================================================================\n",
      "conv2d (Conv2D)              (None, 126, 126, 32)      320       \n",
      "_________________________________________________________________\n",
      "activation (Activation)      (None, 126, 126, 32)      0         \n",
      "_________________________________________________________________\n",
      "max_pooling2d (MaxPooling2D) (None, 63, 63, 32)        0         \n",
      "_________________________________________________________________\n",
      "dropout (Dropout)            (None, 63, 63, 32)        0         \n",
      "_________________________________________________________________\n",
      "conv2d_1 (Conv2D)            (None, 61, 61, 64)        18496     \n",
      "_________________________________________________________________\n",
      "activation_1 (Activation)    (None, 61, 61, 64)        0         \n",
      "_________________________________________________________________\n",
      "max_pooling2d_1 (MaxPooling2 (None, 30, 30, 64)        0         \n",
      "_________________________________________________________________\n",
      "dropout_1 (Dropout)          (None, 30, 30, 64)        0         \n",
      "_________________________________________________________________\n",
      "conv2d_2 (Conv2D)            (None, 28, 28, 128)       73856     \n",
      "_________________________________________________________________\n",
      "activation_2 (Activation)    (None, 28, 28, 128)       0         \n",
      "_________________________________________________________________\n",
      "max_pooling2d_2 (MaxPooling2 (None, 14, 14, 128)       0         \n",
      "_________________________________________________________________\n",
      "dropout_2 (Dropout)          (None, 14, 14, 128)       0         \n",
      "_________________________________________________________________\n",
      "conv2d_3 (Conv2D)            (None, 12, 12, 256)       295168    \n",
      "_________________________________________________________________\n",
      "activation_3 (Activation)    (None, 12, 12, 256)       0         \n",
      "_________________________________________________________________\n",
      "max_pooling2d_3 (MaxPooling2 (None, 6, 6, 256)         0         \n",
      "_________________________________________________________________\n",
      "dropout_3 (Dropout)          (None, 6, 6, 256)         0         \n",
      "_________________________________________________________________\n",
      "flatten (Flatten)            (None, 9216)              0         \n",
      "_________________________________________________________________\n",
      "dense (Dense)                (None, 16)                147472    \n",
      "_________________________________________________________________\n",
      "activation_4 (Activation)    (None, 16)                0         \n",
      "_________________________________________________________________\n",
      "dropout_4 (Dropout)          (None, 16)                0         \n",
      "_________________________________________________________________\n",
      "dense_1 (Dense)              (None, 1)                 17        \n",
      "_________________________________________________________________\n",
      "activation_5 (Activation)    (None, 1)                 0         \n",
      "=================================================================\n",
      "Total params: 535,329\n",
      "Trainable params: 535,329\n",
      "Non-trainable params: 0\n",
      "_________________________________________________________________\n"
     ]
    }
   ],
   "source": [
    "#The summary of the best model\n",
    "best_model3.summary()"
   ]
  }
 ],
 "metadata": {
  "kernelspec": {
   "display_name": "Python 3 (ipykernel)",
   "language": "python",
   "name": "python3"
  },
  "language_info": {
   "codemirror_mode": {
    "name": "ipython",
    "version": 3
   },
   "file_extension": ".py",
   "mimetype": "text/x-python",
   "name": "python",
   "nbconvert_exporter": "python",
   "pygments_lexer": "ipython3",
   "version": "3.7.0"
  }
 },
 "nbformat": 4,
 "nbformat_minor": 5
}
