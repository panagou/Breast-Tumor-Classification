{
 "cells": [
  {
   "cell_type": "code",
   "execution_count": 2,
   "id": "01e9f189-0c40-4eb5-a1fc-33199a447209",
   "metadata": {},
   "outputs": [],
   "source": [
    "import cv2\n",
    "import matplotlib.pyplot as plt\n",
    "import os\n",
    "import random\n",
    "import numpy as np\n",
    "import tensorflow as tf\n",
    "from tensorflow.keras.models import Sequential\n",
    "from tensorflow.keras.layers import Dense, Dropout, Activation, Flatten, Conv2D, MaxPooling2D"
   ]
  },
  {
   "cell_type": "code",
   "execution_count": 3,
   "id": "895c6c53-d03f-4721-b49d-46134a6bb6fb",
   "metadata": {},
   "outputs": [],
   "source": [
    "path=r'C:\\zach\\archive\\Dataset_BUSI_with_GT'\n",
    "img_size=128\n",
    "category=['benign','malignant']"
   ]
  },
  {
   "cell_type": "code",
   "execution_count": 14,
   "id": "3b0eac13-f4fb-47c4-a1f7-7235826f058d",
   "metadata": {},
   "outputs": [],
   "source": [
    "#training data consists 201 pictures of malignant tumor masks and 201 pictures of benign tumor masks\n",
    "training_data=[]\n",
    "def create_training_data():\n",
    "    for i in category:\n",
    "        diir=os.path.join(path,i)\n",
    "        tag=category.index(i)\n",
    "        for j in os.listdir(diir)[:411]:\n",
    "            if j.endswith('mask.png'):\n",
    "                img_array=cv2.imread(os.path.join(diir,j), cv2.IMREAD_GRAYSCALE)\n",
    "                img_array=cv2.resize(img_array, (img_size,img_size))\n",
    "                training_data.append([img_array,tag])"
   ]
  },
  {
   "cell_type": "code",
   "execution_count": 15,
   "id": "487b32fb-0e3b-4c69-be77-2cd8825b894b",
   "metadata": {},
   "outputs": [],
   "source": [
    "#test data is a hold out set containing 10 pictures of malignant tumor masks and 65 pictures of benign tumor masks\n",
    "test_data=[]\n",
    "def create_test_data():\n",
    "    for i in category:\n",
    "        diirs=r'C:\\zach\\archive\\test'\n",
    "        diirs=os.path.join(diirs,i)\n",
    "        tag=category.index(i)\n",
    "        for j in os.listdir(diirs):\n",
    "            test_array=cv2.imread(os.path.join(diirs,j), cv2.IMREAD_GRAYSCALE)\n",
    "            test_array=cv2.resize(test_array, (img_size,img_size))\n",
    "            test_data.append([test_array,tag])"
   ]
  },
  {
   "cell_type": "code",
   "execution_count": 16,
   "id": "c3fe9712-80f6-46fa-8ecc-c924dd1ac7ca",
   "metadata": {},
   "outputs": [],
   "source": [
    "#create data\n",
    "create_training_data()\n",
    "create_test_data()"
   ]
  },
  {
   "cell_type": "code",
   "execution_count": 18,
   "id": "5e8325d8-00a6-4149-866a-cc29bc44afb0",
   "metadata": {},
   "outputs": [],
   "source": [
    "#shuffle data\n",
    "random.shuffle(training_data)\n",
    "random.shuffle(test_data)"
   ]
  },
  {
   "cell_type": "code",
   "execution_count": 19,
   "id": "987652c1-2a5a-4f5e-a3ce-c02e0543b5ac",
   "metadata": {},
   "outputs": [],
   "source": [
    "x = []\n",
    "y = []\n",
    "x_test=[]\n",
    "y_test=[]\n",
    "\n",
    "for features,label in training_data:\n",
    "    x.append(features)\n",
    "    y.append(label)\n",
    "x = np.array(x).reshape(-1, img_size, img_size, 1)\n",
    "y=np.array(y)\n",
    "\n",
    "\n",
    "for features,label in test_data:\n",
    "    x_test.append(features)\n",
    "    y_test.append(label)\n",
    "x_test=np.array(x_test).reshape(-1, img_size, img_size, 1)\n",
    "y_test=np.array(y_test)"
   ]
  },
  {
   "cell_type": "code",
   "execution_count": 20,
   "id": "d65ffd97-a100-4b71-aea7-b77425e4253a",
   "metadata": {},
   "outputs": [],
   "source": [
    "np.save(r'C:\\zach\\archive\\Biomed_Data_x',x)\n",
    "np.save(r'C:\\zach\\archive\\Biomed_Data_y',y)\n",
    "np.save(r'C:\\zach\\archive\\Biomed_Data_x_test',x_test)\n",
    "np.save(r'C:\\zach\\archive\\Biomed_Data_y_test',y_test)"
   ]
  }
 ],
 "metadata": {
  "kernelspec": {
   "display_name": "Python 3 (ipykernel)",
   "language": "python",
   "name": "python3"
  },
  "language_info": {
   "codemirror_mode": {
    "name": "ipython",
    "version": 3
   },
   "file_extension": ".py",
   "mimetype": "text/x-python",
   "name": "python",
   "nbconvert_exporter": "python",
   "pygments_lexer": "ipython3",
   "version": "3.7.0"
  }
 },
 "nbformat": 4,
 "nbformat_minor": 5
}
