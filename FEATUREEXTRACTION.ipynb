{
 "cells": [
  {
   "cell_type": "code",
   "execution_count": 1,
   "id": "d206f448",
   "metadata": {},
   "outputs": [],
   "source": [
    "import radiomics as rad\n",
    "import matplotlib.pyplot as plt\n",
    "import numpy as np\n",
    "import os\n",
    "import cv2\n",
    "import SimpleITK as sitk"
   ]
  },
  {
   "cell_type": "code",
   "execution_count": 2,
   "id": "967fd215",
   "metadata": {},
   "outputs": [],
   "source": [
    "#Import images and read them with SimpleITK\n",
    "path=r'C:\\zach\\archive\\Dataset_BUSI_with_GT'\n",
    "categories=[\"benign\",\"malignant\"]\n",
    "benignmask=[]\n",
    "malignantmask=[]\n",
    "benigngray=[]\n",
    "malignantgray=[]\n",
    "def read_data():\n",
    "    for i in categories :\n",
    "        address = os.path.join(path,i)\n",
    "        tag=categories.index(i)\n",
    "        listy=[]\n",
    "        for j in os.listdir(address):\n",
    "            img = cv2.imread(os.path.join(address,j),cv2.IMREAD_GRAYSCALE)\n",
    "            img = sitk.GetImageFromArray(img)\n",
    "            if 'mask' in j:\n",
    "                if(not(tag)):\n",
    "                    listy.append(img)\n",
    "                else:\n",
    "                    listy.append(img)\n",
    "        \n",
    "            else :\n",
    "                if(not(tag) and len(listy)!=0):\n",
    "                    benignmask.append(listy)\n",
    "                    listy=[]\n",
    "                elif len(listy)!=0:\n",
    "                    malignantmask.append(listy)\n",
    "                    listy=[]\n",
    "                if(not(tag)):\n",
    "                    benigngray.append(img)\n",
    "                else:\n",
    "                    malignantgray.append(img)\n",
    "        if(not(tag)):\n",
    "            benignmask.append(listy)\n",
    "            listy=[]\n",
    "        else:\n",
    "            malignantmask.append(listy)\n",
    "            listy=[]\n",
    "    "
   ]
  },
  {
   "cell_type": "code",
   "execution_count": 3,
   "id": "05389adc",
   "metadata": {},
   "outputs": [],
   "source": [
    "read_data()"
   ]
  },
  {
   "cell_type": "code",
   "execution_count": 4,
   "id": "90ef4fc7",
   "metadata": {},
   "outputs": [],
   "source": [
    "#Extract firstorder and 2D characteristics\n",
    "def extract_chars(im3,im4):\n",
    "    imagedata = {}\n",
    "    s2=[]\n",
    "    f0=[]\n",
    "    extractor=rad.featureextractor.RadiomicsFeatureExtractor()\n",
    "    extractor.disableAllFeatures()\n",
    "    extractor.enableFeatureClassByName(\"shape2D\")\n",
    "    extractor.enableFeatureClassByName(\"firstorder\")\n",
    "    result=extractor.execute(im3,im4,label=255)\n",
    "    for featureName in result.keys():\n",
    "            if((\"shape2D\" in featureName)):\n",
    "                s2.append((featureName,float(result[featureName])))\n",
    "            elif((\"firstorder\" in featureName)):\n",
    "                f0.append((featureName,float(result[featureName])))\n",
    "    imagedata[\"shape2D\"] = s2\n",
    "    imagedata[\"firstorder\"] = f0\n",
    "    return imagedata"
   ]
  },
  {
   "cell_type": "code",
   "execution_count": 5,
   "id": "a615aab0",
   "metadata": {},
   "outputs": [],
   "source": [
    "def vectorize_dict(a):\n",
    "    FeatureVector=[]\n",
    "    for i in a.values():\n",
    "        for j in i:\n",
    "            FeatureVector.append(j[1])\n",
    "    return FeatureVector"
   ]
  },
  {
   "cell_type": "code",
   "execution_count": 6,
   "id": "e9cbfb68",
   "metadata": {
    "scrolled": true
   },
   "outputs": [],
   "source": [
    "a=[]\n",
    "for i in range(len(benignmask)):\n",
    "    for j in range(len(benignmask[i])):\n",
    "        a.append(vectorize_dict(extract_chars(benigngray[i], benignmask[i][j])))\n",
    "        "
   ]
  },
  {
   "cell_type": "code",
   "execution_count": 12,
   "id": "81c8097b",
   "metadata": {
    "scrolled": true
   },
   "outputs": [],
   "source": [
    "b=[]\n",
    "for i in range(len(malignantmask)):\n",
    "    for j in range(len(malignantmask[i])):\n",
    "        b.append(vectorize_dict(extract_chars(malignantgray[i], malignantmask[i][j])))"
   ]
  },
  {
   "cell_type": "code",
   "execution_count": 13,
   "id": "539d97e7",
   "metadata": {},
   "outputs": [],
   "source": [
    "benign=np.array(a)\n",
    "np.save(r'C:\\zach\\archive\\FeatureVectors\\BenignVectors',benign)"
   ]
  },
  {
   "cell_type": "code",
   "execution_count": 14,
   "id": "9ec97a3d",
   "metadata": {},
   "outputs": [],
   "source": [
    "malignant=np.array(b)\n",
    "np.save(r'C:\\zach\\archive\\FeatureVectors\\MalignantVectors',malignant)"
   ]
  },
  {
   "cell_type": "code",
   "execution_count": null,
   "id": "b3327cb0",
   "metadata": {},
   "outputs": [],
   "source": []
  }
 ],
 "metadata": {
  "kernelspec": {
   "display_name": "Python 3 (ipykernel)",
   "language": "python",
   "name": "python3"
  },
  "language_info": {
   "codemirror_mode": {
    "name": "ipython",
    "version": 3
   },
   "file_extension": ".py",
   "mimetype": "text/x-python",
   "name": "python",
   "nbconvert_exporter": "python",
   "pygments_lexer": "ipython3",
   "version": "3.7.11"
  }
 },
 "nbformat": 4,
 "nbformat_minor": 5
}
